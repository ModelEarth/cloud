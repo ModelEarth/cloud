{
 "cells": [
  {
   "cell_type": "markdown",
   "id": "1",
   "metadata": {},
   "source": [
    "# Run Models Notebook\n",
    "\n",
    "This notebook demonstrates executing code and uploading results to GitHub from Google Cloud Run."
   ]
  },
  {
   "cell_type": "code",
   "execution_count": null,
   "id": "8ca939fa",
   "metadata": {
    "vscode": {
     "languageId": "plaintext"
    }
   },
   "outputs": [],
   "source": [
    "# new version that tests report creation. note that below cell has a tag 'parameters' and is vital for papermill injection"
   ]
  },
  {
   "cell_type": "code",
   "execution_count": null,
   "id": "78a567db",
   "metadata": {
    "tags": [
     "parameters"
    ],
    "vscode": {
     "languageId": "plaintext"
    }
   },
   "outputs": [],
   "source": [
    "# Parameters (for papermill injection)\n",
    "folder = None\n",
    "features = {}\n",
    "targets = {}\n",
    "models = None\n",
    "steps = []"
   ]
  },
  {
   "cell_type": "code",
   "execution_count": null,
   "id": "2028dd39",
   "metadata": {
    "vscode": {
     "languageId": "plaintext"
    }
   },
   "outputs": [],
   "source": [
    "import os\n",
    "import sys\n",
    "import base64\n",
    "import requests\n",
    "import json\n",
    "from datetime import datetime\n",
    "import matplotlib.pyplot as plt\n",
    "import pandas as pd\n",
    "from fpdf import FPDF\n",
    "from google.cloud import secretmanager"
   ]
  },
  {
   "cell_type": "code",
   "execution_count": null,
   "id": "4156a550",
   "metadata": {
    "vscode": {
     "languageId": "plaintext"
    }
   },
   "outputs": [],
   "source": [
    "# === SETUP ===\n",
    "print(\"Starting notebook execution...\", file=sys.stderr)\n",
    "TARGET_REPO = \"modelearth/reports\"\n",
    "timestamp = datetime.now().strftime('%Y%m%d-%H%M%S')\n",
    "run_folder = f\"reports/run-{timestamp}\"\n",
    "local_output_dir = os.path.join(\"output\", timestamp)\n",
    "os.makedirs(local_output_dir, exist_ok=True)"
   ]
  },
  {
   "cell_type": "code",
   "execution_count": null,
   "id": "c45ef1a5",
   "metadata": {
    "vscode": {
     "languageId": "plaintext"
    }
   },
   "outputs": [],
   "source": [
    "\n",
    "# === PARAMETER CAPTURE ===\n",
    "parameters_used = {\n",
    "    \"folder\": folder,\n",
    "    \"features\": features,\n",
    "    \"targets\": targets,\n",
    "    \"models\": models\n",
    "}\n",
    "print(\"=== DEBUG: Parameters Received ===\", file=sys.stderr)\n",
    "print(json.dumps(parameters_used, indent=2), file=sys.stderr)\n",
    "\n",
    "param_log_path = os.path.join(local_output_dir, \"params.json\")\n",
    "try:\n",
    "    with open(param_log_path, \"w\") as f:\n",
    "        json.dump(parameters_used, f, indent=2)\n",
    "    print(\"Saved parameter log:\", param_log_path)\n",
    "except Exception as e:\n",
    "    print(f\"[ERROR] Failed to write parameter log: {e}\", file=sys.stderr)"
   ]
  },
  {
   "cell_type": "code",
   "execution_count": null,
   "id": "63f7aa74",
   "metadata": {
    "vscode": {
     "languageId": "plaintext"
    }
   },
   "outputs": [],
   "source": [
    "# === AUTHENTICATION ===\n",
    "def get_github_token():\n",
    "    # 1. Try Google Cloud Secret Manager first\n",
    "    try:\n",
    "        client = secretmanager.SecretManagerServiceClient()\n",
    "        project_id = os.environ.get(\"GOOGLE_CLOUD_PROJECT\")\n",
    "        if not project_id:\n",
    "            raise ValueError(\"GOOGLE_CLOUD_PROJECT not set\")\n",
    "\n",
    "        name = f\"projects/{project_id}/secrets/github-token/versions/latest\"\n",
    "        response = client.access_secret_version(request={\"name\": name})\n",
    "        token = response.payload.data.decode(\"UTF-8\")\n",
    "        print(\"[AUTH] GitHub token retrieved from Secret Manager.\", file=sys.stderr)\n",
    "        return token\n",
    "    except Exception as e:\n",
    "        print(f\"[WARN] Secret Manager token fetch failed: {e}\", file=sys.stderr)\n",
    "\n",
    "    # 2. Fallback to environment variable (e.g., from .env)\n",
    "    try:\n",
    "        # Only attempt to load .env if not in production\n",
    "        if os.environ.get(\"FLASK_ENV\") != \"prod\":\n",
    "            from dotenv import load_dotenv\n",
    "            load_dotenv()\n",
    "            print(\"[DEBUG] .env loaded\", file=sys.stderr)\n",
    "\n",
    "        token = os.environ.get(\"GITHUB_TOKEN\")\n",
    "        if token:\n",
    "            print(\"[AUTH] GitHub token loaded from environment.\", file=sys.stderr)\n",
    "            return token\n",
    "    except Exception as e:\n",
    "        print(f\"[WARN] Failed to load token from .env fallback: {e}\", file=sys.stderr)\n",
    "\n",
    "    print(\"[ERROR] GitHub token not found anywhere!\", file=sys.stderr)\n",
    "    return None\n",
    "\n",
    "# Assign for global use\n",
    "GITHUB_TOKEN = get_github_token()\n"
   ]
  },
  {
   "cell_type": "code",
   "execution_count": null,
   "id": "40fecd3a",
   "metadata": {
    "vscode": {
     "languageId": "plaintext"
    }
   },
   "outputs": [],
   "source": [
    "# === SAMPLE FILE GENERATION (USE THESE AS REFERENCE) ===\n",
    "\n",
    "# 1. Plot (PNG)\n",
    "plt.plot([1, 2, 3], [1, 4, 9])\n",
    "plt.title(\"Test Plot\")\n",
    "plot_path = os.path.join(local_output_dir, \"test-plot.png\")\n",
    "plt.savefig(plot_path)\n",
    "print(\"Saved PNG:\", plot_path)\n",
    "\n",
    "# 2. HTML\n",
    "html_path = os.path.join(local_output_dir, \"test.html\")\n",
    "with open(html_path, \"w\") as f:\n",
    "    f.write(\"<h1>This is a test HTML output</h1>\")\n",
    "print(\"Saved HTML:\", html_path)\n",
    "\n",
    "# 3. CSV (manual)\n",
    "csv_path = os.path.join(local_output_dir, \"test.csv\")\n",
    "with open(csv_path, \"w\") as f:\n",
    "    f.write(\"a,b,c\\n1,2,3\\n4,5,6\")\n",
    "print(\"Saved CSV:\", csv_path)\n",
    "\n",
    "# 4. DataFrame CSV\n",
    "df = pd.DataFrame({\n",
    "    \"A\": [1, 2, 3],\n",
    "    \"B\": [\"x\", \"y\", \"z\"]\n",
    "})\n",
    "df_csv_path = os.path.join(local_output_dir, \"test-data.csv\")\n",
    "df.to_csv(df_csv_path, index=False)\n",
    "print(\"Saved DataFrame CSV:\", df_csv_path)\n",
    "\n"
   ]
  },
  {
   "cell_type": "code",
   "execution_count": null,
   "id": "c8b82da0",
   "metadata": {
    "tags": [
     "step:debug"
    ],
    "vscode": {
     "languageId": "plaintext"
    }
   },
   "outputs": [],
   "source": [
    "# STEP A\n",
    "if 'debug' in steps: #TAG A CELL LIKE 'step:step_name' to make it optional but selectable via UI, also wrap it in a conditional like below. (Optional TODO pipeline improvement is to use papermill but that is out of scope currently))\n",
    "    print(\"✅ STEP A (debug): Running debug routines\")\n",
    "    # 5. PDF\n",
    "    pdf = FPDF()\n",
    "    pdf.add_page()\n",
    "    pdf.set_font(\"Arial\", size=12)\n",
    "    pdf.cell(200, 10, txt=\"Hello, this is a test PDF report.\", ln=True)\n",
    "    pdf_path = os.path.join(local_output_dir, \"test-report.pdf\")\n",
    "    pdf.output(pdf_path)\n",
    "    print(\"Saved PDF:\", pdf_path)"
   ]
  },
  {
   "cell_type": "code",
   "execution_count": null,
   "id": "e7231793",
   "metadata": {
    "tags": [
     "step:preview"
    ],
    "vscode": {
     "languageId": "plaintext"
    }
   },
   "outputs": [],
   "source": [
    "# STEP B\n",
    "if 'preview' in steps:\n",
    "    from IPython.display import display\n",
    "    print(\"✅ STEP B (preview): Showing sample DataFrame\")\n",
    "    display(df.head())"
   ]
  },
  {
   "cell_type": "code",
   "execution_count": null,
   "id": "34c36647",
   "metadata": {
    "tags": [
     "step:log_summary"
    ],
    "vscode": {
     "languageId": "plaintext"
    }
   },
   "outputs": [],
   "source": [
    "# STEP C\n",
    "if 'log_summary' in steps:\n",
    "    print(\"✅ STEP C (log_summary): Saving summary log\")\n",
    "    with open(os.path.join(local_output_dir, \"summary.log\"), \"w\") as f:\n",
    "        f.write(\"Notebook execution completed with test steps.\\n\")"
   ]
  },
  {
   "cell_type": "code",
   "execution_count": null,
   "id": "10bd5332",
   "metadata": {
    "vscode": {
     "languageId": "plaintext"
    }
   },
   "outputs": [],
   "source": [
    "# === GITHUB UPLOAD HELPERS ===\n",
    "\n",
    "def upload_file_to_github(local_path, remote_path, repo, token, branch='main'):\n",
    "    with open(local_path, \"rb\") as f:\n",
    "        content_encoded = base64.b64encode(f.read()).decode('utf-8')\n",
    "    url = f\"https://api.github.com/repos/{repo}/contents/{remote_path}\"\n",
    "    headers = {\n",
    "        'Authorization': f'token {token}',\n",
    "        'Accept': 'application/vnd.github.v3+json'\n",
    "    }\n",
    "    data = {\n",
    "        'message': f\"Add {remote_path}\",\n",
    "        'content': content_encoded,\n",
    "        'branch': branch\n",
    "    }\n",
    "    resp = requests.put(url, headers=headers, json=data)\n",
    "    print(f\"Uploaded {remote_path}: {resp.status_code} - {resp.reason}\", file=sys.stderr)\n",
    "    return resp.status_code == 201"
   ]
  },
  {
   "cell_type": "code",
   "execution_count": null,
   "id": "bf9e1153",
   "metadata": {
    "vscode": {
     "languageId": "plaintext"
    }
   },
   "outputs": [],
   "source": [
    "# === UPLOAD FILES ===\n",
    "\n",
    "if GITHUB_TOKEN:\n",
    "    print(\"=== GITHUB UPLOAD STAGE STARTED ===\", file=sys.stderr)\n",
    "    for filename in os.listdir(local_output_dir):\n",
    "        local_path = os.path.join(local_output_dir, filename)\n",
    "        remote_path = f\"{run_folder}/{filename}\"\n",
    "        upload_file_to_github(local_path, remote_path, TARGET_REPO, GITHUB_TOKEN)\n",
    "else:\n",
    "    print(\"No GitHub token available - skipping upload\", file=sys.stderr)"
   ]
  },
  {
   "cell_type": "code",
   "execution_count": null,
   "id": "df7613b7",
   "metadata": {
    "vscode": {
     "languageId": "plaintext"
    }
   },
   "outputs": [],
   "source": [
    "# === BASIC MARKDOWN LOG ===\n",
    "\n",
    "def upload_simple_report(repo, token, branch='main', commit_message='Report from notebook execution'):\n",
    "    report_md = f\"\"\"\n",
    "# Execution Report\n",
    "\n",
    "Generated: {datetime.now().isoformat()}\n",
    "Environment: Google Cloud Run\n",
    "Project: {os.environ.get('GOOGLE_CLOUD_PROJECT', 'unknown')}\n",
    "Status: Success\n",
    "\n",
    "## Parameters Used\n",
    "\"\"\"\n",
    "    for key, value in parameters_used.items():\n",
    "        report_md += f\"- **{key}**: `{value}`\\n\"\n",
    "    report_md += \"\\n---\\n\"\n",
    "\n",
    "    file_path = f\"reports/execution-{timestamp}.md\"\n",
    "    content_encoded = base64.b64encode(report_md.encode('utf-8')).decode('utf-8')\n",
    "    url = f'https://api.github.com/repos/{repo}/contents/{file_path}'\n",
    "    headers = {\n",
    "        'Authorization': f'token {token}',\n",
    "        'Accept': 'application/vnd.github.v3+json'\n",
    "    }\n",
    "    data = {\n",
    "        'message': commit_message,\n",
    "        'content': content_encoded,\n",
    "        'branch': branch\n",
    "    }\n",
    "    resp = requests.put(url, headers=headers, json=data)\n",
    "    if resp.status_code == 201:\n",
    "        print(\"Simple .md report uploaded successfully\", file=sys.stderr)\n",
    "    else:\n",
    "        print(f\"Failed to upload .md report: {resp.status_code} - {resp.text}\", file=sys.stderr)\n",
    "\n",
    "if GITHUB_TOKEN:\n",
    "    upload_simple_report(TARGET_REPO, GITHUB_TOKEN)\n",
    "else:\n",
    "    print(\"No token for .md report upload\", file=sys.stderr)\n",
    "\n",
    "print(\"=== NOTEBOOK COMPLETED ===\", file=sys.stderr)\n"
   ]
  },
  {
   "cell_type": "code",
   "execution_count": null,
   "id": "bcba73fd",
   "metadata": {
    "vscode": {
     "languageId": "plaintext"
    }
   },
   "outputs": [],
   "source": [
    "import subprocess\n",
    "\n",
    "def run_and_print(command, label=None):\n",
    "    print(f\"\\n### {label} ###\\n\")\n",
    "    result = subprocess.run(command, shell=True, capture_output=True, text=True)\n",
    "    print(result.stdout)\n",
    "    if result.stderr:\n",
    "        print(\"stderr:\", result.stderr)\n",
    "\n",
    "run_and_print(\"git config --list\", \"Git Config\")\n",
    "run_and_print(\"git status\", \"Git Status\")\n",
    "run_and_print(\"ls -lah\", \"Directory Listing\")\n"
   ]
  }
 ],
 "metadata": {
  "kernelspec": {
   "display_name": "Python 3",
   "language": "python",
   "name": "python3"
  },
  "language_info": {
   "codemirror_mode": {
    "name": "ipython",
    "version": 3
   },
   "file_extension": ".py",
   "name": "python",
   "nbconvert_exporter": "python",
   "pygments_lexer": "ipython3",
   "version": "3.9.0"
  }
 },
 "nbformat": 4,
 "nbformat_minor": 5
}
